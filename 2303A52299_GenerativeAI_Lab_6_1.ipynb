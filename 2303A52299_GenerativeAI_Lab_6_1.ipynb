{
  "nbformat": 4,
  "nbformat_minor": 0,
  "metadata": {
    "colab": {
      "provenance": [],
      "mount_file_id": "1vX7Raud7rnJvj6T0lO4a9eaSZpO2fO_M",
      "authorship_tag": "ABX9TyN0JFjXV+RvOvopuoXMLinj",
      "include_colab_link": true
    },
    "kernelspec": {
      "name": "python3",
      "display_name": "Python 3"
    },
    "language_info": {
      "name": "python"
    }
  },
  "cells": [
    {
      "cell_type": "markdown",
      "metadata": {
        "id": "view-in-github",
        "colab_type": "text"
      },
      "source": [
        "<a href=\"https://colab.research.google.com/github/2303a52299/Generative-AI/blob/main/2303A52299_GenerativeAI_Lab_6_1.ipynb\" target=\"_parent\"><img src=\"https://colab.research.google.com/assets/colab-badge.svg\" alt=\"Open In Colab\"/></a>"
      ]
    },
    {
      "cell_type": "code",
      "execution_count": 1,
      "metadata": {
        "id": "paFZUF5s6zXn"
      },
      "outputs": [],
      "source": [
        "import pandas as pd\n",
        "import numpy as np\n",
        "from sklearn.model_selection import train_test_split\n",
        "from sklearn.preprocessing import StandardScaler\n",
        "from keras.models import Sequential\n",
        "from keras.layers import Dense\n",
        "from keras.optimizers import SGD"
      ]
    },
    {
      "cell_type": "code",
      "source": [
        "data = pd.read_csv('/content/Housing (1).csv')\n"
      ],
      "metadata": {
        "id": "ycN3FeEb8oLa"
      },
      "execution_count": 3,
      "outputs": []
    },
    {
      "cell_type": "code",
      "source": [
        "data['mainroad'] = data['mainroad'].map({'yes': 1, 'no': 0})\n",
        "data['guestroom'] = data['guestroom'].map({'yes': 1, 'no': 0})\n",
        "data['basement'] = data['basement'].map({'yes': 1, 'no': 0})\n",
        "data['hotwaterheating'] = data['hotwaterheating'].map({'yes': 1, 'no': 0})\n",
        "data['airconditioning'] = data['airconditioning'].map({'yes': 1, 'no': 0})\n",
        "data['prefarea'] = data['prefarea'].map({'yes': 1, 'no': 0})\n",
        "data['furnishingstatus'] = data['furnishingstatus'].map({'furnished': 2, 'semi-furnished': 1, 'unfurnished': 0})\n"
      ],
      "metadata": {
        "id": "d5UQrcntAK6C"
      },
      "execution_count": 4,
      "outputs": []
    },
    {
      "cell_type": "code",
      "source": [
        "X = data.drop('price', axis=1)\n",
        "y = data['price']"
      ],
      "metadata": {
        "id": "Q38tjrtvAP5L"
      },
      "execution_count": 5,
      "outputs": []
    },
    {
      "cell_type": "code",
      "source": [
        "X_train, X_test, y_train, y_test = train_test_split(X, y, test_size=0.2, random_state=42)"
      ],
      "metadata": {
        "id": "UiYtYA2-ATMB"
      },
      "execution_count": 6,
      "outputs": []
    },
    {
      "cell_type": "code",
      "source": [
        "scaler = StandardScaler()\n",
        "X_train = scaler.fit_transform(X_train)\n",
        "X_test = scaler.transform(X_test)"
      ],
      "metadata": {
        "id": "RVW2cdrQAV8i"
      },
      "execution_count": 7,
      "outputs": []
    },
    {
      "cell_type": "code",
      "source": [
        "model = Sequential()\n",
        "model.add(Dense(15, input_dim=X_train.shape[1], activation='tanh'))\n",
        "model.add(Dense(20, activation='tanh'))\n",
        "model.add(Dense(15, activation='tanh'))\n",
        "model.add(Dense(1, activation='linear'))"
      ],
      "metadata": {
        "colab": {
          "base_uri": "https://localhost:8080/"
        },
        "id": "xx-vxsTYAVry",
        "outputId": "740032b6-273b-4a4c-d993-fe27117a32eb"
      },
      "execution_count": 8,
      "outputs": [
        {
          "output_type": "stream",
          "name": "stderr",
          "text": [
            "/usr/local/lib/python3.11/dist-packages/keras/src/layers/core/dense.py:87: UserWarning: Do not pass an `input_shape`/`input_dim` argument to a layer. When using Sequential models, prefer using an `Input(shape)` object as the first layer in the model instead.\n",
            "  super().__init__(activity_regularizer=activity_regularizer, **kwargs)\n"
          ]
        }
      ]
    },
    {
      "cell_type": "code",
      "source": [
        "optimizer = SGD(learning_rate=0.01)\n",
        "model.compile(loss='mean_squared_error', optimizer=optimizer, metrics=['mean_squared_error'])\n"
      ],
      "metadata": {
        "id": "U35thE6mAfJK"
      },
      "execution_count": 9,
      "outputs": []
    },
    {
      "cell_type": "code",
      "source": [
        "history = model.fit(X_train, y_train, epochs=100, batch_size=16, validation_split=0.2)\n",
        "model.save('housing_model.h5')"
      ],
      "metadata": {
        "colab": {
          "base_uri": "https://localhost:8080/"
        },
        "id": "EWu-v3mBAi86",
        "outputId": "905e37b6-4d36-4cad-8b0f-3f59e5c8eb55"
      },
      "execution_count": 11,
      "outputs": [
        {
          "output_type": "stream",
          "name": "stdout",
          "text": [
            "Epoch 1/100\n",
            "\u001b[1m22/22\u001b[0m \u001b[32m━━━━━━━━━━━━━━━━━━━━\u001b[0m\u001b[37m\u001b[0m \u001b[1m0s\u001b[0m 8ms/step - loss: 3092472922112.0000 - mean_squared_error: 3092472922112.0000 - val_loss: 3401270951936.0000 - val_mean_squared_error: 3401270951936.0000\n",
            "Epoch 2/100\n",
            "\u001b[1m22/22\u001b[0m \u001b[32m━━━━━━━━━━━━━━━━━━━━\u001b[0m\u001b[37m\u001b[0m \u001b[1m0s\u001b[0m 5ms/step - loss: 3164783247360.0000 - mean_squared_error: 3164783247360.0000 - val_loss: 3462746341376.0000 - val_mean_squared_error: 3462746341376.0000\n",
            "Epoch 3/100\n",
            "\u001b[1m22/22\u001b[0m \u001b[32m━━━━━━━━━━━━━━━━━━━━\u001b[0m\u001b[37m\u001b[0m \u001b[1m0s\u001b[0m 6ms/step - loss: 3031684349952.0000 - mean_squared_error: 3031684349952.0000 - val_loss: 3448458444800.0000 - val_mean_squared_error: 3448458444800.0000\n",
            "Epoch 4/100\n",
            "\u001b[1m22/22\u001b[0m \u001b[32m━━━━━━━━━━━━━━━━━━━━\u001b[0m\u001b[37m\u001b[0m \u001b[1m0s\u001b[0m 7ms/step - loss: 2937750290432.0000 - mean_squared_error: 2937750290432.0000 - val_loss: 3401259417600.0000 - val_mean_squared_error: 3401259417600.0000\n",
            "Epoch 5/100\n",
            "\u001b[1m22/22\u001b[0m \u001b[32m━━━━━━━━━━━━━━━━━━━━\u001b[0m\u001b[37m\u001b[0m \u001b[1m0s\u001b[0m 5ms/step - loss: 3057222680576.0000 - mean_squared_error: 3057222680576.0000 - val_loss: 3425000751104.0000 - val_mean_squared_error: 3425000751104.0000\n",
            "Epoch 6/100\n",
            "\u001b[1m22/22\u001b[0m \u001b[32m━━━━━━━━━━━━━━━━━━━━\u001b[0m\u001b[37m\u001b[0m \u001b[1m0s\u001b[0m 5ms/step - loss: 3024724164608.0000 - mean_squared_error: 3024724164608.0000 - val_loss: 3426586198016.0000 - val_mean_squared_error: 3426586198016.0000\n",
            "Epoch 7/100\n",
            "\u001b[1m22/22\u001b[0m \u001b[32m━━━━━━━━━━━━━━━━━━━━\u001b[0m\u001b[37m\u001b[0m \u001b[1m0s\u001b[0m 5ms/step - loss: 2575992881152.0000 - mean_squared_error: 2575992881152.0000 - val_loss: 3554657435648.0000 - val_mean_squared_error: 3554657435648.0000\n",
            "Epoch 8/100\n",
            "\u001b[1m22/22\u001b[0m \u001b[32m━━━━━━━━━━━━━━━━━━━━\u001b[0m\u001b[37m\u001b[0m \u001b[1m0s\u001b[0m 5ms/step - loss: 2880465010688.0000 - mean_squared_error: 2880465010688.0000 - val_loss: 3462151536640.0000 - val_mean_squared_error: 3462151536640.0000\n",
            "Epoch 9/100\n",
            "\u001b[1m22/22\u001b[0m \u001b[32m━━━━━━━━━━━━━━━━━━━━\u001b[0m\u001b[37m\u001b[0m \u001b[1m0s\u001b[0m 5ms/step - loss: 3298907127808.0000 - mean_squared_error: 3298907127808.0000 - val_loss: 3520961970176.0000 - val_mean_squared_error: 3520961970176.0000\n",
            "Epoch 10/100\n",
            "\u001b[1m22/22\u001b[0m \u001b[32m━━━━━━━━━━━━━━━━━━━━\u001b[0m\u001b[37m\u001b[0m \u001b[1m0s\u001b[0m 5ms/step - loss: 3095751819264.0000 - mean_squared_error: 3095751819264.0000 - val_loss: 3409017044992.0000 - val_mean_squared_error: 3409017044992.0000\n",
            "Epoch 11/100\n",
            "\u001b[1m22/22\u001b[0m \u001b[32m━━━━━━━━━━━━━━━━━━━━\u001b[0m\u001b[37m\u001b[0m \u001b[1m0s\u001b[0m 6ms/step - loss: 3347090767872.0000 - mean_squared_error: 3347090767872.0000 - val_loss: 3401249193984.0000 - val_mean_squared_error: 3401249193984.0000\n",
            "Epoch 12/100\n",
            "\u001b[1m22/22\u001b[0m \u001b[32m━━━━━━━━━━━━━━━━━━━━\u001b[0m\u001b[37m\u001b[0m \u001b[1m0s\u001b[0m 6ms/step - loss: 2745068421120.0000 - mean_squared_error: 2745068421120.0000 - val_loss: 3403081056256.0000 - val_mean_squared_error: 3403081056256.0000\n",
            "Epoch 13/100\n",
            "\u001b[1m22/22\u001b[0m \u001b[32m━━━━━━━━━━━━━━━━━━━━\u001b[0m\u001b[37m\u001b[0m \u001b[1m0s\u001b[0m 8ms/step - loss: 2759844954112.0000 - mean_squared_error: 2759844954112.0000 - val_loss: 3594541858816.0000 - val_mean_squared_error: 3594541858816.0000\n",
            "Epoch 14/100\n",
            "\u001b[1m22/22\u001b[0m \u001b[32m━━━━━━━━━━━━━━━━━━━━\u001b[0m\u001b[37m\u001b[0m \u001b[1m0s\u001b[0m 9ms/step - loss: 3317567324160.0000 - mean_squared_error: 3317567324160.0000 - val_loss: 3424825638912.0000 - val_mean_squared_error: 3424825638912.0000\n",
            "Epoch 15/100\n",
            "\u001b[1m22/22\u001b[0m \u001b[32m━━━━━━━━━━━━━━━━━━━━\u001b[0m\u001b[37m\u001b[0m \u001b[1m0s\u001b[0m 8ms/step - loss: 3263876562944.0000 - mean_squared_error: 3263876562944.0000 - val_loss: 3401172647936.0000 - val_mean_squared_error: 3401172647936.0000\n",
            "Epoch 16/100\n",
            "\u001b[1m22/22\u001b[0m \u001b[32m━━━━━━━━━━━━━━━━━━━━\u001b[0m\u001b[37m\u001b[0m \u001b[1m0s\u001b[0m 7ms/step - loss: 3326521638912.0000 - mean_squared_error: 3326521638912.0000 - val_loss: 3403022598144.0000 - val_mean_squared_error: 3403022598144.0000\n",
            "Epoch 17/100\n",
            "\u001b[1m22/22\u001b[0m \u001b[32m━━━━━━━━━━━━━━━━━━━━\u001b[0m\u001b[37m\u001b[0m \u001b[1m0s\u001b[0m 9ms/step - loss: 2727285096448.0000 - mean_squared_error: 2727285096448.0000 - val_loss: 3495980695552.0000 - val_mean_squared_error: 3495980695552.0000\n",
            "Epoch 18/100\n",
            "\u001b[1m22/22\u001b[0m \u001b[32m━━━━━━━━━━━━━━━━━━━━\u001b[0m\u001b[37m\u001b[0m \u001b[1m0s\u001b[0m 8ms/step - loss: 2970176192512.0000 - mean_squared_error: 2970176192512.0000 - val_loss: 3417761120256.0000 - val_mean_squared_error: 3417761120256.0000\n",
            "Epoch 19/100\n",
            "\u001b[1m22/22\u001b[0m \u001b[32m━━━━━━━━━━━━━━━━━━━━\u001b[0m\u001b[37m\u001b[0m \u001b[1m0s\u001b[0m 10ms/step - loss: 2953252700160.0000 - mean_squared_error: 2953252700160.0000 - val_loss: 3427142991872.0000 - val_mean_squared_error: 3427142991872.0000\n",
            "Epoch 20/100\n",
            "\u001b[1m22/22\u001b[0m \u001b[32m━━━━━━━━━━━━━━━━━━━━\u001b[0m\u001b[37m\u001b[0m \u001b[1m0s\u001b[0m 8ms/step - loss: 3016231485440.0000 - mean_squared_error: 3016231485440.0000 - val_loss: 3464560640000.0000 - val_mean_squared_error: 3464560640000.0000\n",
            "Epoch 21/100\n",
            "\u001b[1m22/22\u001b[0m \u001b[32m━━━━━━━━━━━━━━━━━━━━\u001b[0m\u001b[37m\u001b[0m \u001b[1m0s\u001b[0m 10ms/step - loss: 3237745786880.0000 - mean_squared_error: 3237745786880.0000 - val_loss: 3405804208128.0000 - val_mean_squared_error: 3405804208128.0000\n",
            "Epoch 22/100\n",
            "\u001b[1m22/22\u001b[0m \u001b[32m━━━━━━━━━━━━━━━━━━━━\u001b[0m\u001b[37m\u001b[0m \u001b[1m0s\u001b[0m 11ms/step - loss: 3400970272768.0000 - mean_squared_error: 3400970272768.0000 - val_loss: 3412114800640.0000 - val_mean_squared_error: 3412114800640.0000\n",
            "Epoch 23/100\n",
            "\u001b[1m22/22\u001b[0m \u001b[32m━━━━━━━━━━━━━━━━━━━━\u001b[0m\u001b[37m\u001b[0m \u001b[1m0s\u001b[0m 9ms/step - loss: 3347101515776.0000 - mean_squared_error: 3347101515776.0000 - val_loss: 3405638795264.0000 - val_mean_squared_error: 3405638795264.0000\n",
            "Epoch 24/100\n",
            "\u001b[1m22/22\u001b[0m \u001b[32m━━━━━━━━━━━━━━━━━━━━\u001b[0m\u001b[37m\u001b[0m \u001b[1m0s\u001b[0m 5ms/step - loss: 2651962474496.0000 - mean_squared_error: 2651962474496.0000 - val_loss: 3505395597312.0000 - val_mean_squared_error: 3505395597312.0000\n",
            "Epoch 25/100\n",
            "\u001b[1m22/22\u001b[0m \u001b[32m━━━━━━━━━━━━━━━━━━━━\u001b[0m\u001b[37m\u001b[0m \u001b[1m0s\u001b[0m 5ms/step - loss: 3025533665280.0000 - mean_squared_error: 3025533665280.0000 - val_loss: 3403980472320.0000 - val_mean_squared_error: 3403980472320.0000\n",
            "Epoch 26/100\n",
            "\u001b[1m22/22\u001b[0m \u001b[32m━━━━━━━━━━━━━━━━━━━━\u001b[0m\u001b[37m\u001b[0m \u001b[1m0s\u001b[0m 6ms/step - loss: 2818507800576.0000 - mean_squared_error: 2818507800576.0000 - val_loss: 3505688150016.0000 - val_mean_squared_error: 3505688150016.0000\n",
            "Epoch 27/100\n",
            "\u001b[1m22/22\u001b[0m \u001b[32m━━━━━━━━━━━━━━━━━━━━\u001b[0m\u001b[37m\u001b[0m \u001b[1m0s\u001b[0m 5ms/step - loss: 3154886000640.0000 - mean_squared_error: 3154886000640.0000 - val_loss: 3430426345472.0000 - val_mean_squared_error: 3430426345472.0000\n",
            "Epoch 28/100\n",
            "\u001b[1m22/22\u001b[0m \u001b[32m━━━━━━━━━━━━━━━━━━━━\u001b[0m\u001b[37m\u001b[0m \u001b[1m0s\u001b[0m 5ms/step - loss: 2506403086336.0000 - mean_squared_error: 2506403086336.0000 - val_loss: 3419321401344.0000 - val_mean_squared_error: 3419321401344.0000\n",
            "Epoch 29/100\n",
            "\u001b[1m22/22\u001b[0m \u001b[32m━━━━━━━━━━━━━━━━━━━━\u001b[0m\u001b[37m\u001b[0m \u001b[1m0s\u001b[0m 5ms/step - loss: 3151374057472.0000 - mean_squared_error: 3151374057472.0000 - val_loss: 3467001724928.0000 - val_mean_squared_error: 3467001724928.0000\n",
            "Epoch 30/100\n",
            "\u001b[1m22/22\u001b[0m \u001b[32m━━━━━━━━━━━━━━━━━━━━\u001b[0m\u001b[37m\u001b[0m \u001b[1m0s\u001b[0m 5ms/step - loss: 2713476399104.0000 - mean_squared_error: 2713476399104.0000 - val_loss: 3454583177216.0000 - val_mean_squared_error: 3454583177216.0000\n",
            "Epoch 31/100\n",
            "\u001b[1m22/22\u001b[0m \u001b[32m━━━━━━━━━━━━━━━━━━━━\u001b[0m\u001b[37m\u001b[0m \u001b[1m0s\u001b[0m 7ms/step - loss: 3406091517952.0000 - mean_squared_error: 3406091517952.0000 - val_loss: 3406231764992.0000 - val_mean_squared_error: 3406231764992.0000\n",
            "Epoch 32/100\n",
            "\u001b[1m22/22\u001b[0m \u001b[32m━━━━━━━━━━━━━━━━━━━━\u001b[0m\u001b[37m\u001b[0m \u001b[1m0s\u001b[0m 6ms/step - loss: 3347163906048.0000 - mean_squared_error: 3347163906048.0000 - val_loss: 3402051092480.0000 - val_mean_squared_error: 3402051092480.0000\n",
            "Epoch 33/100\n",
            "\u001b[1m22/22\u001b[0m \u001b[32m━━━━━━━━━━━━━━━━━━━━\u001b[0m\u001b[37m\u001b[0m \u001b[1m0s\u001b[0m 5ms/step - loss: 3061109751808.0000 - mean_squared_error: 3061109751808.0000 - val_loss: 3431767736320.0000 - val_mean_squared_error: 3431767736320.0000\n",
            "Epoch 34/100\n",
            "\u001b[1m22/22\u001b[0m \u001b[32m━━━━━━━━━━━━━━━━━━━━\u001b[0m\u001b[37m\u001b[0m \u001b[1m0s\u001b[0m 5ms/step - loss: 2910570151936.0000 - mean_squared_error: 2910570151936.0000 - val_loss: 3480835063808.0000 - val_mean_squared_error: 3480835063808.0000\n",
            "Epoch 35/100\n",
            "\u001b[1m22/22\u001b[0m \u001b[32m━━━━━━━━━━━━━━━━━━━━\u001b[0m\u001b[37m\u001b[0m \u001b[1m0s\u001b[0m 5ms/step - loss: 3457847656448.0000 - mean_squared_error: 3457847656448.0000 - val_loss: 3428692787200.0000 - val_mean_squared_error: 3428692787200.0000\n",
            "Epoch 36/100\n",
            "\u001b[1m22/22\u001b[0m \u001b[32m━━━━━━━━━━━━━━━━━━━━\u001b[0m\u001b[37m\u001b[0m \u001b[1m0s\u001b[0m 6ms/step - loss: 2993574641664.0000 - mean_squared_error: 2993574641664.0000 - val_loss: 3451182645248.0000 - val_mean_squared_error: 3451182645248.0000\n",
            "Epoch 37/100\n",
            "\u001b[1m22/22\u001b[0m \u001b[32m━━━━━━━━━━━━━━━━━━━━\u001b[0m\u001b[37m\u001b[0m \u001b[1m0s\u001b[0m 6ms/step - loss: 2979120545792.0000 - mean_squared_error: 2979120545792.0000 - val_loss: 3446543482880.0000 - val_mean_squared_error: 3446543482880.0000\n",
            "Epoch 38/100\n",
            "\u001b[1m22/22\u001b[0m \u001b[32m━━━━━━━━━━━━━━━━━━━━\u001b[0m\u001b[37m\u001b[0m \u001b[1m0s\u001b[0m 5ms/step - loss: 3123546947584.0000 - mean_squared_error: 3123546947584.0000 - val_loss: 3411319717888.0000 - val_mean_squared_error: 3411319717888.0000\n",
            "Epoch 39/100\n",
            "\u001b[1m22/22\u001b[0m \u001b[32m━━━━━━━━━━━━━━━━━━━━\u001b[0m\u001b[37m\u001b[0m \u001b[1m0s\u001b[0m 5ms/step - loss: 2885225807872.0000 - mean_squared_error: 2885225807872.0000 - val_loss: 3402909876224.0000 - val_mean_squared_error: 3402909876224.0000\n",
            "Epoch 40/100\n",
            "\u001b[1m22/22\u001b[0m \u001b[32m━━━━━━━━━━━━━━━━━━━━\u001b[0m\u001b[37m\u001b[0m \u001b[1m0s\u001b[0m 5ms/step - loss: 2621007462400.0000 - mean_squared_error: 2621007462400.0000 - val_loss: 3408106618880.0000 - val_mean_squared_error: 3408106618880.0000\n",
            "Epoch 41/100\n",
            "\u001b[1m22/22\u001b[0m \u001b[32m━━━━━━━━━━━━━━━━━━━━\u001b[0m\u001b[37m\u001b[0m \u001b[1m0s\u001b[0m 7ms/step - loss: 3151066300416.0000 - mean_squared_error: 3151066300416.0000 - val_loss: 3430366052352.0000 - val_mean_squared_error: 3430366052352.0000\n",
            "Epoch 42/100\n",
            "\u001b[1m22/22\u001b[0m \u001b[32m━━━━━━━━━━━━━━━━━━━━\u001b[0m\u001b[37m\u001b[0m \u001b[1m0s\u001b[0m 5ms/step - loss: 3019724029952.0000 - mean_squared_error: 3019724029952.0000 - val_loss: 3671344545792.0000 - val_mean_squared_error: 3671344545792.0000\n",
            "Epoch 43/100\n",
            "\u001b[1m22/22\u001b[0m \u001b[32m━━━━━━━━━━━━━━━━━━━━\u001b[0m\u001b[37m\u001b[0m \u001b[1m0s\u001b[0m 7ms/step - loss: 2724622499840.0000 - mean_squared_error: 2724622499840.0000 - val_loss: 3699199967232.0000 - val_mean_squared_error: 3699199967232.0000\n",
            "Epoch 44/100\n",
            "\u001b[1m22/22\u001b[0m \u001b[32m━━━━━━━━━━━━━━━━━━━━\u001b[0m\u001b[37m\u001b[0m \u001b[1m0s\u001b[0m 7ms/step - loss: 2891880333312.0000 - mean_squared_error: 2891880333312.0000 - val_loss: 3401241591808.0000 - val_mean_squared_error: 3401241591808.0000\n",
            "Epoch 45/100\n",
            "\u001b[1m22/22\u001b[0m \u001b[32m━━━━━━━━━━━━━━━━━━━━\u001b[0m\u001b[37m\u001b[0m \u001b[1m0s\u001b[0m 7ms/step - loss: 3185685037056.0000 - mean_squared_error: 3185685037056.0000 - val_loss: 3736406589440.0000 - val_mean_squared_error: 3736406589440.0000\n",
            "Epoch 46/100\n",
            "\u001b[1m22/22\u001b[0m \u001b[32m━━━━━━━━━━━━━━━━━━━━\u001b[0m\u001b[37m\u001b[0m \u001b[1m0s\u001b[0m 5ms/step - loss: 3264690782208.0000 - mean_squared_error: 3264690782208.0000 - val_loss: 3403477942272.0000 - val_mean_squared_error: 3403477942272.0000\n",
            "Epoch 47/100\n",
            "\u001b[1m22/22\u001b[0m \u001b[32m━━━━━━━━━━━━━━━━━━━━\u001b[0m\u001b[37m\u001b[0m \u001b[1m0s\u001b[0m 7ms/step - loss: 2593353629696.0000 - mean_squared_error: 2593353629696.0000 - val_loss: 3413974974464.0000 - val_mean_squared_error: 3413974974464.0000\n",
            "Epoch 48/100\n",
            "\u001b[1m22/22\u001b[0m \u001b[32m━━━━━━━━━━━━━━━━━━━━\u001b[0m\u001b[37m\u001b[0m \u001b[1m0s\u001b[0m 5ms/step - loss: 2634139828224.0000 - mean_squared_error: 2634139828224.0000 - val_loss: 3401193095168.0000 - val_mean_squared_error: 3401193095168.0000\n",
            "Epoch 49/100\n",
            "\u001b[1m22/22\u001b[0m \u001b[32m━━━━━━━━━━━━━━━━━━━━\u001b[0m\u001b[37m\u001b[0m \u001b[1m0s\u001b[0m 5ms/step - loss: 2930091753472.0000 - mean_squared_error: 2930091753472.0000 - val_loss: 3403173330944.0000 - val_mean_squared_error: 3403173330944.0000\n",
            "Epoch 50/100\n",
            "\u001b[1m22/22\u001b[0m \u001b[32m━━━━━━━━━━━━━━━━━━━━\u001b[0m\u001b[37m\u001b[0m \u001b[1m0s\u001b[0m 7ms/step - loss: 2855995703296.0000 - mean_squared_error: 2855995703296.0000 - val_loss: 3430279020544.0000 - val_mean_squared_error: 3430279020544.0000\n",
            "Epoch 51/100\n",
            "\u001b[1m22/22\u001b[0m \u001b[32m━━━━━━━━━━━━━━━━━━━━\u001b[0m\u001b[37m\u001b[0m \u001b[1m0s\u001b[0m 5ms/step - loss: 2900740800512.0000 - mean_squared_error: 2900740800512.0000 - val_loss: 3404095553536.0000 - val_mean_squared_error: 3404095553536.0000\n",
            "Epoch 52/100\n",
            "\u001b[1m22/22\u001b[0m \u001b[32m━━━━━━━━━━━━━━━━━━━━\u001b[0m\u001b[37m\u001b[0m \u001b[1m0s\u001b[0m 5ms/step - loss: 3108457414656.0000 - mean_squared_error: 3108457414656.0000 - val_loss: 3401908486144.0000 - val_mean_squared_error: 3401908486144.0000\n",
            "Epoch 53/100\n",
            "\u001b[1m22/22\u001b[0m \u001b[32m━━━━━━━━━━━━━━━━━━━━\u001b[0m\u001b[37m\u001b[0m \u001b[1m0s\u001b[0m 5ms/step - loss: 2938630569984.0000 - mean_squared_error: 2938630569984.0000 - val_loss: 3572511277056.0000 - val_mean_squared_error: 3572511277056.0000\n",
            "Epoch 54/100\n",
            "\u001b[1m22/22\u001b[0m \u001b[32m━━━━━━━━━━━━━━━━━━━━\u001b[0m\u001b[37m\u001b[0m \u001b[1m0s\u001b[0m 6ms/step - loss: 2903772233728.0000 - mean_squared_error: 2903772233728.0000 - val_loss: 3411754876928.0000 - val_mean_squared_error: 3411754876928.0000\n",
            "Epoch 55/100\n",
            "\u001b[1m22/22\u001b[0m \u001b[32m━━━━━━━━━━━━━━━━━━━━\u001b[0m\u001b[37m\u001b[0m \u001b[1m0s\u001b[0m 7ms/step - loss: 2969236406272.0000 - mean_squared_error: 2969236406272.0000 - val_loss: 3425903575040.0000 - val_mean_squared_error: 3425903575040.0000\n",
            "Epoch 56/100\n",
            "\u001b[1m22/22\u001b[0m \u001b[32m━━━━━━━━━━━━━━━━━━━━\u001b[0m\u001b[37m\u001b[0m \u001b[1m0s\u001b[0m 6ms/step - loss: 2790671253504.0000 - mean_squared_error: 2790671253504.0000 - val_loss: 3536392814592.0000 - val_mean_squared_error: 3536392814592.0000\n",
            "Epoch 57/100\n",
            "\u001b[1m22/22\u001b[0m \u001b[32m━━━━━━━━━━━━━━━━━━━━\u001b[0m\u001b[37m\u001b[0m \u001b[1m0s\u001b[0m 5ms/step - loss: 3329218052096.0000 - mean_squared_error: 3329218052096.0000 - val_loss: 3443683229696.0000 - val_mean_squared_error: 3443683229696.0000\n",
            "Epoch 58/100\n",
            "\u001b[1m22/22\u001b[0m \u001b[32m━━━━━━━━━━━━━━━━━━━━\u001b[0m\u001b[37m\u001b[0m \u001b[1m0s\u001b[0m 6ms/step - loss: 3453582311424.0000 - mean_squared_error: 3453582311424.0000 - val_loss: 3487269388288.0000 - val_mean_squared_error: 3487269388288.0000\n",
            "Epoch 59/100\n",
            "\u001b[1m22/22\u001b[0m \u001b[32m━━━━━━━━━━━━━━━━━━━━\u001b[0m\u001b[37m\u001b[0m \u001b[1m0s\u001b[0m 5ms/step - loss: 3015935524864.0000 - mean_squared_error: 3015935524864.0000 - val_loss: 3496387805184.0000 - val_mean_squared_error: 3496387805184.0000\n",
            "Epoch 60/100\n",
            "\u001b[1m22/22\u001b[0m \u001b[32m━━━━━━━━━━━━━━━━━━━━\u001b[0m\u001b[37m\u001b[0m \u001b[1m0s\u001b[0m 7ms/step - loss: 2955168710656.0000 - mean_squared_error: 2955168710656.0000 - val_loss: 3442168823808.0000 - val_mean_squared_error: 3442168823808.0000\n",
            "Epoch 61/100\n",
            "\u001b[1m22/22\u001b[0m \u001b[32m━━━━━━━━━━━━━━━━━━━━\u001b[0m\u001b[37m\u001b[0m \u001b[1m0s\u001b[0m 6ms/step - loss: 3580111618048.0000 - mean_squared_error: 3580111618048.0000 - val_loss: 3405273366528.0000 - val_mean_squared_error: 3405273366528.0000\n",
            "Epoch 62/100\n",
            "\u001b[1m22/22\u001b[0m \u001b[32m━━━━━━━━━━━━━━━━━━━━\u001b[0m\u001b[37m\u001b[0m \u001b[1m0s\u001b[0m 7ms/step - loss: 2780225339392.0000 - mean_squared_error: 2780225339392.0000 - val_loss: 3407463317504.0000 - val_mean_squared_error: 3407463317504.0000\n",
            "Epoch 63/100\n",
            "\u001b[1m22/22\u001b[0m \u001b[32m━━━━━━━━━━━━━━━━━━━━\u001b[0m\u001b[37m\u001b[0m \u001b[1m0s\u001b[0m 7ms/step - loss: 2863056027648.0000 - mean_squared_error: 2863056027648.0000 - val_loss: 3404128321536.0000 - val_mean_squared_error: 3404128321536.0000\n",
            "Epoch 64/100\n",
            "\u001b[1m22/22\u001b[0m \u001b[32m━━━━━━━━━━━━━━━━━━━━\u001b[0m\u001b[37m\u001b[0m \u001b[1m0s\u001b[0m 6ms/step - loss: 3427169730560.0000 - mean_squared_error: 3427169730560.0000 - val_loss: 3413493940224.0000 - val_mean_squared_error: 3413493940224.0000\n",
            "Epoch 65/100\n",
            "\u001b[1m22/22\u001b[0m \u001b[32m━━━━━━━━━━━━━━━━━━━━\u001b[0m\u001b[37m\u001b[0m \u001b[1m0s\u001b[0m 5ms/step - loss: 2669932969984.0000 - mean_squared_error: 2669932969984.0000 - val_loss: 3419845165056.0000 - val_mean_squared_error: 3419845165056.0000\n",
            "Epoch 66/100\n",
            "\u001b[1m22/22\u001b[0m \u001b[32m━━━━━━━━━━━━━━━━━━━━\u001b[0m\u001b[37m\u001b[0m \u001b[1m0s\u001b[0m 6ms/step - loss: 3024377085952.0000 - mean_squared_error: 3024377085952.0000 - val_loss: 3410340085760.0000 - val_mean_squared_error: 3410340085760.0000\n",
            "Epoch 67/100\n",
            "\u001b[1m22/22\u001b[0m \u001b[32m━━━━━━━━━━━━━━━━━━━━\u001b[0m\u001b[37m\u001b[0m \u001b[1m0s\u001b[0m 5ms/step - loss: 3604015218688.0000 - mean_squared_error: 3604015218688.0000 - val_loss: 3445391097856.0000 - val_mean_squared_error: 3445391097856.0000\n",
            "Epoch 68/100\n",
            "\u001b[1m22/22\u001b[0m \u001b[32m━━━━━━━━━━━━━━━━━━━━\u001b[0m\u001b[37m\u001b[0m \u001b[1m0s\u001b[0m 5ms/step - loss: 3134028775424.0000 - mean_squared_error: 3134028775424.0000 - val_loss: 3470587592704.0000 - val_mean_squared_error: 3470587592704.0000\n",
            "Epoch 69/100\n",
            "\u001b[1m22/22\u001b[0m \u001b[32m━━━━━━━━━━━━━━━━━━━━\u001b[0m\u001b[37m\u001b[0m \u001b[1m0s\u001b[0m 5ms/step - loss: 3107567435776.0000 - mean_squared_error: 3107567435776.0000 - val_loss: 3502389854208.0000 - val_mean_squared_error: 3502389854208.0000\n",
            "Epoch 70/100\n",
            "\u001b[1m22/22\u001b[0m \u001b[32m━━━━━━━━━━━━━━━━━━━━\u001b[0m\u001b[37m\u001b[0m \u001b[1m0s\u001b[0m 7ms/step - loss: 2856525234176.0000 - mean_squared_error: 2856525234176.0000 - val_loss: 3422079942656.0000 - val_mean_squared_error: 3422079942656.0000\n",
            "Epoch 71/100\n",
            "\u001b[1m22/22\u001b[0m \u001b[32m━━━━━━━━━━━━━━━━━━━━\u001b[0m\u001b[37m\u001b[0m \u001b[1m0s\u001b[0m 5ms/step - loss: 3654219464704.0000 - mean_squared_error: 3654219464704.0000 - val_loss: 3409919606784.0000 - val_mean_squared_error: 3409919606784.0000\n",
            "Epoch 72/100\n",
            "\u001b[1m22/22\u001b[0m \u001b[32m━━━━━━━━━━━━━━━━━━━━\u001b[0m\u001b[37m\u001b[0m \u001b[1m0s\u001b[0m 9ms/step - loss: 2834575917056.0000 - mean_squared_error: 2834575917056.0000 - val_loss: 3648904495104.0000 - val_mean_squared_error: 3648904495104.0000\n",
            "Epoch 73/100\n",
            "\u001b[1m22/22\u001b[0m \u001b[32m━━━━━━━━━━━━━━━━━━━━\u001b[0m\u001b[37m\u001b[0m \u001b[1m0s\u001b[0m 10ms/step - loss: 2904936677376.0000 - mean_squared_error: 2904936677376.0000 - val_loss: 3415946297344.0000 - val_mean_squared_error: 3415946297344.0000\n",
            "Epoch 74/100\n",
            "\u001b[1m22/22\u001b[0m \u001b[32m━━━━━━━━━━━━━━━━━━━━\u001b[0m\u001b[37m\u001b[0m \u001b[1m0s\u001b[0m 10ms/step - loss: 2669007863808.0000 - mean_squared_error: 2669007863808.0000 - val_loss: 3587420979200.0000 - val_mean_squared_error: 3587420979200.0000\n",
            "Epoch 75/100\n",
            "\u001b[1m22/22\u001b[0m \u001b[32m━━━━━━━━━━━━━━━━━━━━\u001b[0m\u001b[37m\u001b[0m \u001b[1m0s\u001b[0m 9ms/step - loss: 3113491103744.0000 - mean_squared_error: 3113491103744.0000 - val_loss: 3401869688832.0000 - val_mean_squared_error: 3401869688832.0000\n",
            "Epoch 76/100\n",
            "\u001b[1m22/22\u001b[0m \u001b[32m━━━━━━━━━━━━━━━━━━━━\u001b[0m\u001b[37m\u001b[0m \u001b[1m0s\u001b[0m 8ms/step - loss: 2738042961920.0000 - mean_squared_error: 2738042961920.0000 - val_loss: 3480846860288.0000 - val_mean_squared_error: 3480846860288.0000\n",
            "Epoch 77/100\n",
            "\u001b[1m22/22\u001b[0m \u001b[32m━━━━━━━━━━━━━━━━━━━━\u001b[0m\u001b[37m\u001b[0m \u001b[1m0s\u001b[0m 10ms/step - loss: 3360620806144.0000 - mean_squared_error: 3360620806144.0000 - val_loss: 3463795441664.0000 - val_mean_squared_error: 3463795441664.0000\n",
            "Epoch 78/100\n",
            "\u001b[1m22/22\u001b[0m \u001b[32m━━━━━━━━━━━━━━━━━━━━\u001b[0m\u001b[37m\u001b[0m \u001b[1m0s\u001b[0m 7ms/step - loss: 3179349540864.0000 - mean_squared_error: 3179349540864.0000 - val_loss: 3483020558336.0000 - val_mean_squared_error: 3483020558336.0000\n",
            "Epoch 79/100\n",
            "\u001b[1m22/22\u001b[0m \u001b[32m━━━━━━━━━━━━━━━━━━━━\u001b[0m\u001b[37m\u001b[0m \u001b[1m0s\u001b[0m 10ms/step - loss: 3395572465664.0000 - mean_squared_error: 3395572465664.0000 - val_loss: 3433271918592.0000 - val_mean_squared_error: 3433271918592.0000\n",
            "Epoch 80/100\n",
            "\u001b[1m22/22\u001b[0m \u001b[32m━━━━━━━━━━━━━━━━━━━━\u001b[0m\u001b[37m\u001b[0m \u001b[1m0s\u001b[0m 7ms/step - loss: 3133813555200.0000 - mean_squared_error: 3133813555200.0000 - val_loss: 3401177104384.0000 - val_mean_squared_error: 3401177104384.0000\n",
            "Epoch 81/100\n",
            "\u001b[1m22/22\u001b[0m \u001b[32m━━━━━━━━━━━━━━━━━━━━\u001b[0m\u001b[37m\u001b[0m \u001b[1m0s\u001b[0m 8ms/step - loss: 3021600456704.0000 - mean_squared_error: 3021600456704.0000 - val_loss: 3487349604352.0000 - val_mean_squared_error: 3487349604352.0000\n",
            "Epoch 82/100\n",
            "\u001b[1m22/22\u001b[0m \u001b[32m━━━━━━━━━━━━━━━━━━━━\u001b[0m\u001b[37m\u001b[0m \u001b[1m0s\u001b[0m 10ms/step - loss: 2930158338048.0000 - mean_squared_error: 2930158338048.0000 - val_loss: 3422750244864.0000 - val_mean_squared_error: 3422750244864.0000\n",
            "Epoch 83/100\n",
            "\u001b[1m22/22\u001b[0m \u001b[32m━━━━━━━━━━━━━━━━━━━━\u001b[0m\u001b[37m\u001b[0m \u001b[1m0s\u001b[0m 6ms/step - loss: 3029825748992.0000 - mean_squared_error: 3029825748992.0000 - val_loss: 3403554488320.0000 - val_mean_squared_error: 3403554488320.0000\n",
            "Epoch 84/100\n",
            "\u001b[1m22/22\u001b[0m \u001b[32m━━━━━━━━━━━━━━━━━━━━\u001b[0m\u001b[37m\u001b[0m \u001b[1m0s\u001b[0m 5ms/step - loss: 2955491934208.0000 - mean_squared_error: 2955491934208.0000 - val_loss: 3581631791104.0000 - val_mean_squared_error: 3581631791104.0000\n",
            "Epoch 85/100\n",
            "\u001b[1m22/22\u001b[0m \u001b[32m━━━━━━━━━━━━━━━━━━━━\u001b[0m\u001b[37m\u001b[0m \u001b[1m0s\u001b[0m 7ms/step - loss: 3044539367424.0000 - mean_squared_error: 3044539367424.0000 - val_loss: 3403093901312.0000 - val_mean_squared_error: 3403093901312.0000\n",
            "Epoch 86/100\n",
            "\u001b[1m22/22\u001b[0m \u001b[32m━━━━━━━━━━━━━━━━━━━━\u001b[0m\u001b[37m\u001b[0m \u001b[1m0s\u001b[0m 7ms/step - loss: 3025696718848.0000 - mean_squared_error: 3025696718848.0000 - val_loss: 3429479219200.0000 - val_mean_squared_error: 3429479219200.0000\n",
            "Epoch 87/100\n",
            "\u001b[1m22/22\u001b[0m \u001b[32m━━━━━━━━━━━━━━━━━━━━\u001b[0m\u001b[37m\u001b[0m \u001b[1m0s\u001b[0m 6ms/step - loss: 2927282618368.0000 - mean_squared_error: 2927282618368.0000 - val_loss: 3405321601024.0000 - val_mean_squared_error: 3405321601024.0000\n",
            "Epoch 88/100\n",
            "\u001b[1m22/22\u001b[0m \u001b[32m━━━━━━━━━━━━━━━━━━━━\u001b[0m\u001b[37m\u001b[0m \u001b[1m0s\u001b[0m 8ms/step - loss: 2788805050368.0000 - mean_squared_error: 2788805050368.0000 - val_loss: 3465286254592.0000 - val_mean_squared_error: 3465286254592.0000\n",
            "Epoch 89/100\n",
            "\u001b[1m22/22\u001b[0m \u001b[32m━━━━━━━━━━━━━━━━━━━━\u001b[0m\u001b[37m\u001b[0m \u001b[1m0s\u001b[0m 6ms/step - loss: 3114602332160.0000 - mean_squared_error: 3114602332160.0000 - val_loss: 3462545801216.0000 - val_mean_squared_error: 3462545801216.0000\n",
            "Epoch 90/100\n",
            "\u001b[1m22/22\u001b[0m \u001b[32m━━━━━━━━━━━━━━━━━━━━\u001b[0m\u001b[37m\u001b[0m \u001b[1m0s\u001b[0m 5ms/step - loss: 2849894039552.0000 - mean_squared_error: 2849894039552.0000 - val_loss: 3531181391872.0000 - val_mean_squared_error: 3531181391872.0000\n",
            "Epoch 91/100\n",
            "\u001b[1m22/22\u001b[0m \u001b[32m━━━━━━━━━━━━━━━━━━━━\u001b[0m\u001b[37m\u001b[0m \u001b[1m0s\u001b[0m 6ms/step - loss: 3089568104448.0000 - mean_squared_error: 3089568104448.0000 - val_loss: 3424056770560.0000 - val_mean_squared_error: 3424056770560.0000\n",
            "Epoch 92/100\n",
            "\u001b[1m22/22\u001b[0m \u001b[32m━━━━━━━━━━━━━━━━━━━━\u001b[0m\u001b[37m\u001b[0m \u001b[1m0s\u001b[0m 8ms/step - loss: 3212241797120.0000 - mean_squared_error: 3212241797120.0000 - val_loss: 3406657486848.0000 - val_mean_squared_error: 3406657486848.0000\n",
            "Epoch 93/100\n",
            "\u001b[1m22/22\u001b[0m \u001b[32m━━━━━━━━━━━━━━━━━━━━\u001b[0m\u001b[37m\u001b[0m \u001b[1m0s\u001b[0m 6ms/step - loss: 3075025666048.0000 - mean_squared_error: 3075025666048.0000 - val_loss: 3472347627520.0000 - val_mean_squared_error: 3472347627520.0000\n",
            "Epoch 94/100\n",
            "\u001b[1m22/22\u001b[0m \u001b[32m━━━━━━━━━━━━━━━━━━━━\u001b[0m\u001b[37m\u001b[0m \u001b[1m0s\u001b[0m 7ms/step - loss: 2862103134208.0000 - mean_squared_error: 2862103134208.0000 - val_loss: 3498550493184.0000 - val_mean_squared_error: 3498550493184.0000\n",
            "Epoch 95/100\n",
            "\u001b[1m22/22\u001b[0m \u001b[32m━━━━━━━━━━━━━━━━━━━━\u001b[0m\u001b[37m\u001b[0m \u001b[1m0s\u001b[0m 5ms/step - loss: 3311870935040.0000 - mean_squared_error: 3311870935040.0000 - val_loss: 3401230057472.0000 - val_mean_squared_error: 3401230057472.0000\n",
            "Epoch 96/100\n",
            "\u001b[1m22/22\u001b[0m \u001b[32m━━━━━━━━━━━━━━━━━━━━\u001b[0m\u001b[37m\u001b[0m \u001b[1m0s\u001b[0m 6ms/step - loss: 2850353840128.0000 - mean_squared_error: 2850353840128.0000 - val_loss: 3406548434944.0000 - val_mean_squared_error: 3406548434944.0000\n",
            "Epoch 97/100\n",
            "\u001b[1m22/22\u001b[0m \u001b[32m━━━━━━━━━━━━━━━━━━━━\u001b[0m\u001b[37m\u001b[0m \u001b[1m0s\u001b[0m 5ms/step - loss: 3234697576448.0000 - mean_squared_error: 3234697576448.0000 - val_loss: 3415067852800.0000 - val_mean_squared_error: 3415067852800.0000\n",
            "Epoch 98/100\n",
            "\u001b[1m22/22\u001b[0m \u001b[32m━━━━━━━━━━━━━━━━━━━━\u001b[0m\u001b[37m\u001b[0m \u001b[1m0s\u001b[0m 5ms/step - loss: 2996569374720.0000 - mean_squared_error: 2996569374720.0000 - val_loss: 3406758150144.0000 - val_mean_squared_error: 3406758150144.0000\n",
            "Epoch 99/100\n",
            "\u001b[1m22/22\u001b[0m \u001b[32m━━━━━━━━━━━━━━━━━━━━\u001b[0m\u001b[37m\u001b[0m \u001b[1m0s\u001b[0m 5ms/step - loss: 3474469158912.0000 - mean_squared_error: 3474469158912.0000 - val_loss: 3436229689344.0000 - val_mean_squared_error: 3436229689344.0000\n",
            "Epoch 100/100\n",
            "\u001b[1m22/22\u001b[0m \u001b[32m━━━━━━━━━━━━━━━━━━━━\u001b[0m\u001b[37m\u001b[0m \u001b[1m0s\u001b[0m 5ms/step - loss: 2818284716032.0000 - mean_squared_error: 2818284716032.0000 - val_loss: 3450837401600.0000 - val_mean_squared_error: 3450837401600.0000\n"
          ]
        },
        {
          "output_type": "stream",
          "name": "stderr",
          "text": [
            "WARNING:absl:You are saving your model as an HDF5 file via `model.save()` or `keras.saving.save_model(model)`. This file format is considered legacy. We recommend using instead the native Keras format, e.g. `model.save('my_model.keras')` or `keras.saving.save_model(model, 'my_model.keras')`. \n"
          ]
        }
      ]
    }
  ]
}