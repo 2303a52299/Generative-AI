{
  "nbformat": 4,
  "nbformat_minor": 0,
  "metadata": {
    "colab": {
      "provenance": [],
      "authorship_tag": "ABX9TyN8I0WpNByeSLpE0uM8/2MR",
      "include_colab_link": true
    },
    "kernelspec": {
      "name": "python3",
      "display_name": "Python 3"
    },
    "language_info": {
      "name": "python"
    }
  },
  "cells": [
    {
      "cell_type": "markdown",
      "metadata": {
        "id": "view-in-github",
        "colab_type": "text"
      },
      "source": [
        "<a href=\"https://colab.research.google.com/github/2303a52299/Generative-AI/blob/main/2303A52299_GenerativeAI_Lab_5.3.ipynb\" target=\"_parent\"><img src=\"https://colab.research.google.com/assets/colab-badge.svg\" alt=\"Open In Colab\"/></a>"
      ]
    },
    {
      "cell_type": "code",
      "execution_count": 4,
      "metadata": {
        "colab": {
          "base_uri": "https://localhost:8080/"
        },
        "id": "rb94QebW21QV",
        "outputId": "194a00af-0462-4cec-8598-e45b2cccff27"
      },
      "outputs": [
        {
          "output_type": "stream",
          "name": "stdout",
          "text": [
            "Training MSE: 1.51692035082311e-08\n",
            "Test MSE: 2.1571263451055748e-08\n",
            "Enter x1: 1\n",
            "Enter x2: 2\n",
            "Predicted Output: 0.4141758884429116\n"
          ]
        }
      ],
      "source": [
        "import numpy as np\n",
        "def sigmoid(x):\n",
        "    return 1 / (1 + np.exp(-x))\n",
        "\n",
        "def sigmoid_derivative(x):\n",
        "    return x * (1 - x)\n",
        "def mse(y_true, y_pred):\n",
        "    return np.mean((y_true - y_pred) ** 2)\n",
        "train_X = np.array([[1, 2], [2, 3], [5, 6], [6, 7], [7, 8], [8, 9]])\n",
        "train_y = np.array([[0.4140], [0.4611], [0.5501], [0.5656], [0.5765], [0.5840]])\n",
        "test_X = np.array([[3, 4], [4, 5]])\n",
        "test_y = np.array([[0.4992], [0.5285]])\n",
        "\n",
        "np.random.seed(42)\n",
        "weights_input_hidden = np.random.rand(2, 4)\n",
        "bias_hidden = np.random.rand(1, 4)\n",
        "weights_hidden_output = np.random.rand(4, 1)\n",
        "bias_output = np.random.rand(1, 1)\n",
        "\n",
        "learning_rate = 0.01\n",
        "epochs = 10000\n",
        "\n",
        "for epoch in range(epochs):\n",
        "\n",
        "    hidden_layer_input = np.dot(train_X, weights_input_hidden) + bias_hidden\n",
        "    hidden_layer_output = sigmoid(hidden_layer_input)\n",
        "    output_layer_input = np.dot(hidden_layer_output, weights_hidden_output) + bias_output\n",
        "    output_layer_output = output_layer_input\n",
        "\n",
        "    error = train_y - output_layer_output\n",
        "\n",
        "    output_error = error\n",
        "    hidden_error = output_error.dot(weights_hidden_output.T) * sigmoid_derivative(hidden_layer_output)\n",
        "\n",
        "    weights_hidden_output += hidden_layer_output.T.dot(output_error) * learning_rate\n",
        "    weights_input_hidden += train_X.T.dot(hidden_error) * learning_rate\n",
        "\n",
        "    bias_output += np.sum(output_error, axis=0, keepdims=True) * learning_rate\n",
        "    bias_hidden += np.sum(hidden_error, axis=0, keepdims=True) * learning_rate\n",
        "\n",
        "\n",
        "train_predictions = np.dot(sigmoid(np.dot(train_X, weights_input_hidden) + bias_hidden), weights_hidden_output) + bias_output\n",
        "test_predictions = np.dot(sigmoid(np.dot(test_X, weights_input_hidden) + bias_hidden), weights_hidden_output) + bias_output\n",
        "\n",
        "train_mse = mse(train_y, train_predictions)\n",
        "test_mse = mse(test_y, test_predictions)\n",
        "\n",
        "print(f'Training MSE: {train_mse}')\n",
        "print(f'Test MSE: {test_mse}')\n",
        "x1 = float(input('Enter x1: '))\n",
        "x2 = float(input('Enter x2: '))\n",
        "user_input = np.array([[x1, x2]])\n",
        "user_hidden = sigmoid(np.dot(user_input, weights_input_hidden) + bias_hidden)\n",
        "user_output = np.dot(user_hidden, weights_hidden_output) + bias_output\n",
        "print(f'Predicted Output: {user_output[0][0]}')"
      ]
    }
  ]
}